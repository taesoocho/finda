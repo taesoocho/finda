{
 "cells": [
  {
   "cell_type": "code",
   "execution_count": 40,
   "metadata": {},
   "outputs": [],
   "source": [
    "import time\n",
    "from bs4 import BeautifulSoup as bs\n",
    "from selenium import webdriver\n",
    "from selenium.webdriver.common.action_chains import ActionChains\n",
    "from webdriver_manager.chrome import ChromeDriverManager \n",
    "import pandas as pd\n",
    "import numpy as np\n",
    "import re\n",
    "import warnings\n",
    "\n",
    "warnings.filterwarnings(action='ignore')"
   ]
  },
  {
   "cell_type": "code",
   "execution_count": 41,
   "metadata": {},
   "outputs": [],
   "source": [
    "finda_review_url = 'https://play.google.com/store/apps/details?id=kr.co.finda.finda'"
   ]
  },
  {
   "cell_type": "code",
   "execution_count": 42,
   "metadata": {},
   "outputs": [
    {
     "name": "stderr",
     "output_type": "stream",
     "text": [
      "\n",
      "\n",
      "====== WebDriver manager ======\n",
      "Current google-chrome version is 103.0.5060\n",
      "Get LATEST chromedriver version for 103.0.5060 google-chrome\n",
      "Driver [C:\\Users\\TaeSoo\\.wdm\\drivers\\chromedriver\\win32\\103.0.5060.134\\chromedriver.exe] found in cache\n"
     ]
    }
   ],
   "source": [
    "driver = webdriver.Chrome(ChromeDriverManager().install())\n",
    "driver.implicitly_wait(10)\n",
    "\n",
    "driver.get(finda_review_url)\n",
    "\n",
    "driver.find_element_by_css_selector(\"#yDmH0d > c-wiz.SSPGKf.Czez9d > div > div > div.tU8Y5c > div.wkMJlb.YWi3ub > div > div.qZmL0 > c-wiz:nth-child(4) > section > header > div > div:nth-child(2) > button\").click()"
   ]
  },
  {
   "cell_type": "code",
   "execution_count": 45,
   "metadata": {},
   "outputs": [
    {
     "name": "stdout",
     "output_type": "stream",
     "text": [
      "3050\n"
     ]
    }
   ],
   "source": [
    "html = driver.page_source\n",
    "soup = bs(html, 'html.parser')\n",
    "content = soup.findAll('div', {'class' : 'RHo1pe'})\n",
    "print(len(content))"
   ]
  },
  {
   "cell_type": "code",
   "execution_count": 64,
   "metadata": {},
   "outputs": [],
   "source": [
    "class_name_list = ['X5PpBb' , 'iXRFPc', 'bp9Aid', 'h3YV2d', 'AJTPZc'] # id, review_score, date, content, likes\n",
    "\n",
    "id_, review_score_, date_, content_, likes_ = [[] for i in range(5)]\n",
    "\n",
    "for index in range(len(content)) :\n",
    "    try :\n",
    "        item1 = content[index].find('div', {'class' : class_name_list[0]}).text\n",
    "    except :\n",
    "        item1 = \"\"\n",
    "    id_.append(item1)\n",
    "    try :\n",
    "        item2 = content[index].find('div', {'class' : class_name_list[1]})['aria-label']\n",
    "    except :\n",
    "        item2 = \"\"\n",
    "    review_score_.append(item2)\n",
    "    try :\n",
    "        item3 = content[index].find('span', {'class' : class_name_list[2]}).text\n",
    "    except :\n",
    "        item3 = \"\"\n",
    "    date_.append(item3)\n",
    "    try :\n",
    "        item4 = content[index].find('div', {'class' : class_name_list[3]}).text\n",
    "    except :\n",
    "        item4 = \"\"\n",
    "    content_.append(item4)\n",
    "    try :\n",
    "        item5 = content[index].find('div', {'class' : class_name_list[4]}).text\n",
    "    except :\n",
    "        item5 = \"\"\n",
    "    likes_.append(item5)\n"
   ]
  },
  {
   "cell_type": "code",
   "execution_count": 65,
   "metadata": {},
   "outputs": [],
   "source": [
    "review_df = pd.DataFrame(np.array([id_, review_score_, date_, content_, likes_]), index = ('id', 'review_score', 'date', 'content', 'likes'))\n",
    "review_df = review_df.transpose()\n",
    "review_df.to_csv('google_review.csv', encoding = 'utf-8-sig')"
   ]
  },
  {
   "cell_type": "code",
   "execution_count": 66,
   "metadata": {},
   "outputs": [
    {
     "data": {
      "text/html": [
       "<div>\n",
       "<style scoped>\n",
       "    .dataframe tbody tr th:only-of-type {\n",
       "        vertical-align: middle;\n",
       "    }\n",
       "\n",
       "    .dataframe tbody tr th {\n",
       "        vertical-align: top;\n",
       "    }\n",
       "\n",
       "    .dataframe thead th {\n",
       "        text-align: right;\n",
       "    }\n",
       "</style>\n",
       "<table border=\"1\" class=\"dataframe\">\n",
       "  <thead>\n",
       "    <tr style=\"text-align: right;\">\n",
       "      <th></th>\n",
       "      <th>id</th>\n",
       "      <th>review_score</th>\n",
       "      <th>date</th>\n",
       "      <th>content</th>\n",
       "      <th>likes</th>\n",
       "    </tr>\n",
       "  </thead>\n",
       "  <tbody>\n",
       "    <tr>\n",
       "      <th>0</th>\n",
       "      <td>황승민</td>\n",
       "      <td>별표 5개 만점에 4개를 받았습니다.</td>\n",
       "      <td>2022년 2월 15일</td>\n",
       "      <td>이 앱에 평가를 하자면 별4개입니다 이유는 일단 첫번째로는 상담사분이 친절합니다. ...</td>\n",
       "      <td>사용자 1,169명이 이 리뷰가 유용하다고 평가함</td>\n",
       "    </tr>\n",
       "    <tr>\n",
       "      <th>1</th>\n",
       "      <td>Google 사용자</td>\n",
       "      <td>별표 5개 만점에 3개를 받았습니다.</td>\n",
       "      <td>2018년 12월 11일</td>\n",
       "      <td>신용리포트를 보기 위해 인증을 거치는 과정에서 핸드폰 인증번호를 입력하면 '핀다 앱...</td>\n",
       "      <td>사용자 826명이 이 리뷰가 유용하다고 평가함</td>\n",
       "    </tr>\n",
       "    <tr>\n",
       "      <th>2</th>\n",
       "      <td>Google 사용자</td>\n",
       "      <td>별표 5개 만점에 5개를 받았습니다.</td>\n",
       "      <td>2020년 3월 12일</td>\n",
       "      <td>오늘 핀다 앱 통해서 씨티은행 대출 받았습니다. 뭐 장단점이 있는 거 같은데... ...</td>\n",
       "      <td>사용자 740명이 이 리뷰가 유용하다고 평가함</td>\n",
       "    </tr>\n",
       "    <tr>\n",
       "      <th>3</th>\n",
       "      <td>김진아</td>\n",
       "      <td>별표 5개 만점에 5개를 받았습니다.</td>\n",
       "      <td>2020년 12월 4일</td>\n",
       "      <td>일단 신속하면서 안전함이 좋은것 같아요. 또 한번에 여러사이트의 상황을 한눈에 볼 ...</td>\n",
       "      <td>사용자 250명이 이 리뷰가 유용하다고 평가함</td>\n",
       "    </tr>\n",
       "    <tr>\n",
       "      <th>4</th>\n",
       "      <td>Google 사용자</td>\n",
       "      <td>별표 5개 만점에 5개를 받았습니다.</td>\n",
       "      <td>2020년 3월 28일</td>\n",
       "      <td>관련 앱 중에서 가장 쓰기 편했습니다~! 대출도 쇼핑이다라는 말처럼 한눈에 최대한도...</td>\n",
       "      <td>사용자 152명이 이 리뷰가 유용하다고 평가함</td>\n",
       "    </tr>\n",
       "    <tr>\n",
       "      <th>...</th>\n",
       "      <td>...</td>\n",
       "      <td>...</td>\n",
       "      <td>...</td>\n",
       "      <td>...</td>\n",
       "      <td>...</td>\n",
       "    </tr>\n",
       "    <tr>\n",
       "      <th>3045</th>\n",
       "      <td>강현규</td>\n",
       "      <td>별표 5개 만점에 4개를 받았습니다.</td>\n",
       "      <td>2022년 2월 7일</td>\n",
       "      <td>없유</td>\n",
       "      <td>사용자 1명이 이 리뷰가 유용하다고 평가함</td>\n",
       "    </tr>\n",
       "    <tr>\n",
       "      <th>3046</th>\n",
       "      <td>이의현</td>\n",
       "      <td>별표 5개 만점에 1개를 받았습니다.</td>\n",
       "      <td>2021년 8월 4일</td>\n",
       "      <td>어후</td>\n",
       "      <td></td>\n",
       "    </tr>\n",
       "    <tr>\n",
       "      <th>3047</th>\n",
       "      <td>시현</td>\n",
       "      <td>별표 5개 만점에 1개를 받았습니다.</td>\n",
       "      <td>2021년 4월 7일</td>\n",
       "      <td>사기</td>\n",
       "      <td></td>\n",
       "    </tr>\n",
       "    <tr>\n",
       "      <th>3048</th>\n",
       "      <td>박충길</td>\n",
       "      <td>별표 5개 만점에 5개를 받았습니다.</td>\n",
       "      <td>2021년 12월 6일</td>\n",
       "      <td>짱</td>\n",
       "      <td></td>\n",
       "    </tr>\n",
       "    <tr>\n",
       "      <th>3049</th>\n",
       "      <td>오산이주노동자센터</td>\n",
       "      <td>별표 5개 만점에 5개를 받았습니다.</td>\n",
       "      <td>2022년 7월 16일</td>\n",
       "      <td>🤣</td>\n",
       "      <td></td>\n",
       "    </tr>\n",
       "  </tbody>\n",
       "</table>\n",
       "<p>3050 rows × 5 columns</p>\n",
       "</div>"
      ],
      "text/plain": [
       "              id          review_score           date  \\\n",
       "0            황승민  별표 5개 만점에 4개를 받았습니다.   2022년 2월 15일   \n",
       "1     Google 사용자  별표 5개 만점에 3개를 받았습니다.  2018년 12월 11일   \n",
       "2     Google 사용자  별표 5개 만점에 5개를 받았습니다.   2020년 3월 12일   \n",
       "3            김진아  별표 5개 만점에 5개를 받았습니다.   2020년 12월 4일   \n",
       "4     Google 사용자  별표 5개 만점에 5개를 받았습니다.   2020년 3월 28일   \n",
       "...          ...                   ...            ...   \n",
       "3045         강현규  별표 5개 만점에 4개를 받았습니다.    2022년 2월 7일   \n",
       "3046         이의현  별표 5개 만점에 1개를 받았습니다.    2021년 8월 4일   \n",
       "3047          시현  별표 5개 만점에 1개를 받았습니다.    2021년 4월 7일   \n",
       "3048         박충길  별표 5개 만점에 5개를 받았습니다.   2021년 12월 6일   \n",
       "3049   오산이주노동자센터  별표 5개 만점에 5개를 받았습니다.   2022년 7월 16일   \n",
       "\n",
       "                                                content  \\\n",
       "0     이 앱에 평가를 하자면 별4개입니다 이유는 일단 첫번째로는 상담사분이 친절합니다. ...   \n",
       "1     신용리포트를 보기 위해 인증을 거치는 과정에서 핸드폰 인증번호를 입력하면 '핀다 앱...   \n",
       "2     오늘 핀다 앱 통해서 씨티은행 대출 받았습니다. 뭐 장단점이 있는 거 같은데... ...   \n",
       "3     일단 신속하면서 안전함이 좋은것 같아요. 또 한번에 여러사이트의 상황을 한눈에 볼 ...   \n",
       "4     관련 앱 중에서 가장 쓰기 편했습니다~! 대출도 쇼핑이다라는 말처럼 한눈에 최대한도...   \n",
       "...                                                 ...   \n",
       "3045                                                 없유   \n",
       "3046                                                 어후   \n",
       "3047                                                 사기   \n",
       "3048                                                  짱   \n",
       "3049                                                  🤣   \n",
       "\n",
       "                            likes  \n",
       "0     사용자 1,169명이 이 리뷰가 유용하다고 평가함  \n",
       "1       사용자 826명이 이 리뷰가 유용하다고 평가함  \n",
       "2       사용자 740명이 이 리뷰가 유용하다고 평가함  \n",
       "3       사용자 250명이 이 리뷰가 유용하다고 평가함  \n",
       "4       사용자 152명이 이 리뷰가 유용하다고 평가함  \n",
       "...                           ...  \n",
       "3045      사용자 1명이 이 리뷰가 유용하다고 평가함  \n",
       "3046                               \n",
       "3047                               \n",
       "3048                               \n",
       "3049                               \n",
       "\n",
       "[3050 rows x 5 columns]"
      ]
     },
     "execution_count": 66,
     "metadata": {},
     "output_type": "execute_result"
    }
   ],
   "source": [
    "review_df"
   ]
  },
  {
   "cell_type": "code",
   "execution_count": 15,
   "metadata": {},
   "outputs": [],
   "source": [
    "driver.close()"
   ]
  }
 ],
 "metadata": {
  "interpreter": {
   "hash": "2dfa257a281de9994f88c60a5fca2641387c45c4e5c63ec0b0db4b080fbadd2b"
  },
  "kernelspec": {
   "display_name": "Python 3.8.8 ('base')",
   "language": "python",
   "name": "python3"
  },
  "language_info": {
   "codemirror_mode": {
    "name": "ipython",
    "version": 3
   },
   "file_extension": ".py",
   "mimetype": "text/x-python",
   "name": "python",
   "nbconvert_exporter": "python",
   "pygments_lexer": "ipython3",
   "version": "3.8.12"
  },
  "orig_nbformat": 4
 },
 "nbformat": 4,
 "nbformat_minor": 2
}
